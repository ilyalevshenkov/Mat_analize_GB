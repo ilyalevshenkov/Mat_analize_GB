{
  "nbformat": 4,
  "nbformat_minor": 0,
  "metadata": {
    "colab": {
      "provenance": [],
      "toc_visible": true
    },
    "kernelspec": {
      "name": "python3",
      "display_name": "Python 3"
    },
    "language_info": {
      "name": "python"
    }
  },
  "cells": [
    {
      "cell_type": "markdown",
      "source": [
        "# ДЗ к уроку №10.\n",
        "\n",
        "## Найти интегралы:\n",
        "\n",
        "##1)   ∫ [x^4 + x^2 -6x] / [x^3]dx\n"
      ],
      "metadata": {
        "id": "AUURUlRIU8Yx"
      }
    },
    {
      "cell_type": "code",
      "source": [
        "import sympy as sp\n",
        "\n",
        "# Определяем переменную\n",
        "x = sp.symbols('x')\n",
        "\n",
        "# Задаем функцию\n",
        "expr = (x**4 + x**2 - 6*x) / x**3\n",
        "\n",
        "# Находим интеграл\n",
        "integral = sp.integrate(expr, x)\n",
        "\n",
        "# Выводим результат\n",
        "print(f\"Интеграл от выражения: {integral}\")"
      ],
      "metadata": {
        "colab": {
          "base_uri": "https://localhost:8080/"
        },
        "id": "8scJ6HxLVwnm",
        "outputId": "ec086414-6e07-4776-aa6e-d32d64e66e25"
      },
      "execution_count": 2,
      "outputs": [
        {
          "output_type": "stream",
          "name": "stdout",
          "text": [
            "Интеграл от выражения: x**2/2 + log(x) + 6/x\n"
          ]
        }
      ]
    },
    {
      "cell_type": "markdown",
      "source": [
        "##2).  ∫cos2xdx"
      ],
      "metadata": {
        "id": "BvRAaij7XcCL"
      }
    },
    {
      "cell_type": "code",
      "source": [
        "import sympy as sp\n",
        "\n",
        "# Определяем переменную\n",
        "x = sp.symbols('x')\n",
        "\n",
        "# Задаем функцию\n",
        "expr = sp.cos(2 * x)\n",
        "\n",
        "# Находим интеграл\n",
        "integral = sp.integrate(expr, x)\n",
        "\n",
        "# Выводим результат\n",
        "print(f\"Интеграл от cos(2x) dx: {integral} + C\")"
      ],
      "metadata": {
        "colab": {
          "base_uri": "https://localhost:8080/"
        },
        "id": "g9Hih7NiX4km",
        "outputId": "85b24060-8d10-416a-96bb-65b0bdcc3a2e"
      },
      "execution_count": 3,
      "outputs": [
        {
          "output_type": "stream",
          "name": "stdout",
          "text": [
            "Интеграл от cos(2x) dx: sin(2*x)/2 + C\n"
          ]
        }
      ]
    },
    {
      "cell_type": "markdown",
      "source": [
        "## 3). ∫dx / (3x+2)^4"
      ],
      "metadata": {
        "id": "DG9VsDPQX8gd"
      }
    },
    {
      "cell_type": "code",
      "source": [
        "# Определяем переменную\n",
        "x = sp.symbols('x')\n",
        "\n",
        "# Задаем подынтегральное выражение\n",
        "expr = 1 / (3 * x + 2)**4\n",
        "\n",
        "# Находим интеграл\n",
        "integral = sp.integrate(expr, x)\n",
        "\n",
        "# Выводим результат\n",
        "print(f\"Интеграл от 1/(3x + 2)^4 dx: {integral} + C\")"
      ],
      "metadata": {
        "colab": {
          "base_uri": "https://localhost:8080/"
        },
        "id": "VsUF20eqXlD_",
        "outputId": "0a766776-f38d-4509-c917-145d35393687"
      },
      "execution_count": 5,
      "outputs": [
        {
          "output_type": "stream",
          "name": "stdout",
          "text": [
            "Интеграл от 1/(3x + 2)^4 dx: -1/(243*x**3 + 486*x**2 + 324*x + 72) + C\n"
          ]
        }
      ]
    },
    {
      "cell_type": "markdown",
      "source": [
        "## 4). ∫(5x-1)/(4 - x^2)^0,5 dx"
      ],
      "metadata": {
        "id": "R1MDraEZZbLY"
      }
    },
    {
      "cell_type": "code",
      "source": [
        "# Определяем переменную\n",
        "x = sp.symbols('x')\n",
        "\n",
        "# Задаем подынтегральное выражение\n",
        "expr = (5*x - 1) / sp.sqrt(4 - x**2)\n",
        "\n",
        "# Находим интеграл\n",
        "integral = sp.integrate(expr, x)\n",
        "\n",
        "# Выводим результат\n",
        "print(f\"Интеграл от (5x - 1)/(sqrt(4 - x^2)) dx: {integral} + C\")"
      ],
      "metadata": {
        "colab": {
          "base_uri": "https://localhost:8080/"
        },
        "id": "AFe52fBUaDvq",
        "outputId": "b0ef8cf2-0d30-47e1-b440-5875d6d49451"
      },
      "execution_count": 6,
      "outputs": [
        {
          "output_type": "stream",
          "name": "stdout",
          "text": [
            "Интеграл от (5x - 1)/(sqrt(4 - x^2)) dx: -5*sqrt(4 - x**2) - asin(x/2) + C\n"
          ]
        }
      ]
    },
    {
      "cell_type": "markdown",
      "source": [
        "## 5).  ∫ dx/sqr x (1 + sqr x)"
      ],
      "metadata": {
        "id": "t-LUnJ8TaIZU"
      }
    },
    {
      "cell_type": "code",
      "source": [
        "# Определяем переменную\n",
        "x = sp.symbols('x')\n",
        "\n",
        "# Задаем подынтегральное выражение\n",
        "expr = 1 / (sp.sqrt(x) * (1 + sp.sqrt(x)))\n",
        "\n",
        "# Находим интеграл\n",
        "integral = sp.integrate(expr, x)\n",
        "\n",
        "# Выводим результат\n",
        "print(f\"Интеграл от 1/(sqrt(x) * (1 + sqrt(x))) dx: {integral} + C\")"
      ],
      "metadata": {
        "colab": {
          "base_uri": "https://localhost:8080/"
        },
        "id": "dYBmKuJAasPL",
        "outputId": "820d80a9-6fb6-49e9-abec-7ba30b471026"
      },
      "execution_count": 7,
      "outputs": [
        {
          "output_type": "stream",
          "name": "stdout",
          "text": [
            "Интеграл от 1/(sqrt(x) * (1 + sqrt(x))) dx: 2*log(sqrt(x) + 1) + C\n"
          ]
        }
      ]
    },
    {
      "cell_type": "markdown",
      "source": [
        "## 6).   ∫ x^2 cos xdx"
      ],
      "metadata": {
        "id": "RReMfAwLau-q"
      }
    },
    {
      "cell_type": "code",
      "source": [
        "# Определяем переменную\n",
        "x = sp.symbols('x')\n",
        "\n",
        "# Задаем подынтегральное выражение\n",
        "expr = x**2 * sp.cos(x)\n",
        "\n",
        "# Находим интеграл\n",
        "integral = sp.integrate(expr, x)\n",
        "\n",
        "# Выводим результат\n",
        "print(f\"Интеграл от x^2 * cos(x) dx: {integral} + C\")"
      ],
      "metadata": {
        "colab": {
          "base_uri": "https://localhost:8080/"
        },
        "id": "6O6fXu9QbHcf",
        "outputId": "bc54fef2-2ab5-461e-a47c-42790e3fd433"
      },
      "execution_count": 8,
      "outputs": [
        {
          "output_type": "stream",
          "name": "stdout",
          "text": [
            "Интеграл от x^2 * cos(x) dx: x**2*sin(x) + 2*x*cos(x) - 2*sin(x) + C\n"
          ]
        }
      ]
    },
    {
      "cell_type": "markdown",
      "source": [
        "## 7). ∫arctan xdx"
      ],
      "metadata": {
        "id": "Hn_2NyYzbNB_"
      }
    },
    {
      "cell_type": "code",
      "source": [
        "# Определяем переменную\n",
        "x = sp.symbols('x')\n",
        "\n",
        "# Задаем подынтегральное выражение\n",
        "expr = sp.atan(x)\n",
        "\n",
        "# Находим интеграл\n",
        "integral = sp.integrate(expr, x)\n",
        "\n",
        "# Выводим результат\n",
        "print(f\"Интеграл от arctan(x) dx: {integral} + C\")"
      ],
      "metadata": {
        "colab": {
          "base_uri": "https://localhost:8080/"
        },
        "id": "qMxf2CTaZVOP",
        "outputId": "443399b8-71e7-4fcf-93d3-a05015725b30"
      },
      "execution_count": 9,
      "outputs": [
        {
          "output_type": "stream",
          "name": "stdout",
          "text": [
            "Интеграл от arctan(x) dx: x*atan(x) - log(x**2 + 1)/2 + C\n"
          ]
        }
      ]
    },
    {
      "cell_type": "markdown",
      "source": [
        "## 8). ∫ dx/[x - 1]^5"
      ],
      "metadata": {
        "id": "T1zsdRW0bp1Q"
      }
    },
    {
      "cell_type": "code",
      "source": [
        "# Определяем переменную\n",
        "x = sp.symbols('x')\n",
        "\n",
        "# Задаем подынтегральное выражение\n",
        "expr = 1 / (x - 1)**5\n",
        "\n",
        "# Находим интеграл\n",
        "integral = sp.integrate(expr, x)\n",
        "\n",
        "# Выводим результат\n",
        "print(f\"Интеграл от 1/((x - 1)^5) dx: {integral} + C\")"
      ],
      "metadata": {
        "colab": {
          "base_uri": "https://localhost:8080/"
        },
        "id": "Em2eRazTb_Nd",
        "outputId": "87cd379f-ebcb-44e7-b674-03ed7b42352b"
      },
      "execution_count": 10,
      "outputs": [
        {
          "output_type": "stream",
          "name": "stdout",
          "text": [
            "Интеграл от 1/((x - 1)^5) dx: -1/(4*x**4 - 16*x**3 + 24*x**2 - 16*x + 4) + C\n"
          ]
        }
      ]
    },
    {
      "cell_type": "markdown",
      "source": [
        "## 9). ∫ (x + 6) dx/(x^2 -2x +17)"
      ],
      "metadata": {
        "id": "BOEiCA0lcB_W"
      }
    },
    {
      "cell_type": "code",
      "source": [
        "# Определяем переменные\n",
        "x = sp.symbols('x')\n",
        "\n",
        "# Задаем подынтегральное выражение\n",
        "expr = (x + 6) / (x**2 - 2*x + 17)\n",
        "\n",
        "# Находим интеграл\n",
        "integral = sp.integrate(expr, x)\n",
        "\n",
        "# Выводим результат\n",
        "print(f\"Интеграл от (x + 6) / (x^2 - 2x + 17) dx: {integral} + C\")"
      ],
      "metadata": {
        "colab": {
          "base_uri": "https://localhost:8080/"
        },
        "id": "Fdm51MOQccHM",
        "outputId": "cb56bb1b-1fe5-4cf6-9324-1680b18d5c70"
      },
      "execution_count": 11,
      "outputs": [
        {
          "output_type": "stream",
          "name": "stdout",
          "text": [
            "Интеграл от (x + 6) / (x^2 - 2x + 17) dx: log(x**2 - 2*x + 17)/2 + 7*atan(x/4 - 1/4)/4 + C\n"
          ]
        }
      ]
    },
    {
      "cell_type": "markdown",
      "source": [
        "## 10).  ∫ xdx/[(x^2 - 1)*(x^2 +1)]"
      ],
      "metadata": {
        "id": "ajxZ7Us1cwuO"
      }
    },
    {
      "cell_type": "code",
      "source": [
        "# Определяем переменные\n",
        "x = sp.symbols('x')\n",
        "\n",
        "# Определяем подынтегральное выражение\n",
        "expr = x / ((x**2 - 1) * (x**2 + 1))\n",
        "\n",
        "# Находим интеграл\n",
        "integral = sp.integrate(expr, x)\n",
        "\n",
        "# Выводим результат\n",
        "print(f\"Интеграл от x / [(x^2 - 1) * (x^2 + 1)] dx: {integral} + C\")"
      ],
      "metadata": {
        "colab": {
          "base_uri": "https://localhost:8080/"
        },
        "id": "eubUa6LNdXjR",
        "outputId": "677b70c0-ad91-4aa8-b891-a1c04c5130ba"
      },
      "execution_count": 12,
      "outputs": [
        {
          "output_type": "stream",
          "name": "stdout",
          "text": [
            "Интеграл от x / [(x^2 - 1) * (x^2 + 1)] dx: log(x**2 - 1)/4 - log(x**2 + 1)/4 + C\n"
          ]
        }
      ]
    },
    {
      "cell_type": "markdown",
      "source": [
        "## 11). ∫ x^(1/3) dx/ [(x^2)^(1/3)- x^(1/2)]"
      ],
      "metadata": {
        "id": "LncFal_WdZ98"
      }
    },
    {
      "cell_type": "code",
      "source": [
        "# Определяем переменную\n",
        "x = sp.symbols('x')\n",
        "\n",
        "# Задаем подынтегральное выражение\n",
        "expr = x**(1/3) / ((x**2)**(1/3) - x**(1/2))\n",
        "\n",
        "# Находим интеграл\n",
        "integral = sp.integrate(expr, x)\n",
        "\n",
        "# Выводим результат\n",
        "print(f\"Интеграл от x^(1/3) / [(x^2)^(1/3) - x^(1/2)] dx: {integral} + C\")"
      ],
      "metadata": {
        "colab": {
          "base_uri": "https://localhost:8080/"
        },
        "id": "zXEt3_IJeBHt",
        "outputId": "68553e58-35e3-481f-8db1-738c959f6f63"
      },
      "execution_count": 13,
      "outputs": [
        {
          "output_type": "stream",
          "name": "stdout",
          "text": [
            "Интеграл от x^(1/3) / [(x^2)^(1/3) - x^(1/2)] dx: Integral(x**0.333333333333333/(-x**0.5 + (x**2)**0.333333333333333), x) + C\n"
          ]
        }
      ]
    },
    {
      "cell_type": "markdown",
      "source": [
        "## 12) ∫ x^(1/3)*[(1 + 3*(x^2)^(1/3))]dx"
      ],
      "metadata": {
        "id": "Zr0ukUKYeGCg"
      }
    },
    {
      "cell_type": "code",
      "source": [
        "# Определяем переменную\n",
        "x = sp.symbols('x')\n",
        "\n",
        "# Задаем подынтегральное выражение\n",
        "expr = x**(1/3) * (1 + 3 * (x**2)**(1/3))\n",
        "\n",
        "# Находим интеграл\n",
        "integral = sp.integrate(expr, x)\n",
        "\n",
        "# Выводим результат\n",
        "print(f\"Интеграл от x^(1/3) * [1 + 3 * (x^2)^(1/3)] dx: {integral} + C\")"
      ],
      "metadata": {
        "colab": {
          "base_uri": "https://localhost:8080/"
        },
        "id": "TEeeowJqfQjR",
        "outputId": "d92c98c0-9263-4e2a-ae6a-0f69246d8be8"
      },
      "execution_count": 14,
      "outputs": [
        {
          "output_type": "stream",
          "name": "stdout",
          "text": [
            "Интеграл от x^(1/3) * [1 + 3 * (x^2)^(1/3)] dx: 1.5*x**1.33333333333333*(x**2.0)**0.333333333333333 + 0.75*x**1.33333333333333 + C\n"
          ]
        }
      ]
    },
    {
      "cell_type": "markdown",
      "source": [
        "## 13). ∫ dx / (sin (x)sin(2x))"
      ],
      "metadata": {
        "id": "1YOSeeRefUsR"
      }
    },
    {
      "cell_type": "code",
      "source": [
        "# Определяем переменные\n",
        "x = sp.symbols('x')\n",
        "\n",
        "# Задаем подынтегральное выражение\n",
        "expr = 1 / (sp.sin(x) * sp.sin(2*x))\n",
        "\n",
        "# Находим интеграл\n",
        "integral = sp.integrate(expr, x)\n",
        "\n",
        "# Выводим результат\n",
        "print(f\"Интеграл от 1 / (sin(x) * sin(2x)) dx: {integral} + C\")"
      ],
      "metadata": {
        "colab": {
          "base_uri": "https://localhost:8080/"
        },
        "id": "twTmQA2Vfviu",
        "outputId": "14654735-4c01-41c8-8b5e-c3b81853e6ee"
      },
      "execution_count": 15,
      "outputs": [
        {
          "output_type": "stream",
          "name": "stdout",
          "text": [
            "Интеграл от 1 / (sin(x) * sin(2x)) dx: -log(sin(x) - 1)/4 + log(sin(x) + 1)/4 - 1/(2*sin(x)) + C\n"
          ]
        }
      ]
    },
    {
      "cell_type": "markdown",
      "source": [
        "## 14).  ∫ cos5x cos3x dx"
      ],
      "metadata": {
        "id": "-DmFtED7fyci"
      }
    },
    {
      "cell_type": "code",
      "source": [
        "# Определяем переменную\n",
        "x = sp.symbols('x')\n",
        "\n",
        "# Определяем подынтегральное выражение\n",
        "expr = sp.cos(5*x) * sp.cos(3*x)\n",
        "\n",
        "# Находим интеграл\n",
        "integral = sp.integrate(expr, x)\n",
        "\n",
        "# Выводим результат\n",
        "print(f\"Интеграл от cos(5x) * cos(3x) dx: {integral} + C\")"
      ],
      "metadata": {
        "colab": {
          "base_uri": "https://localhost:8080/"
        },
        "id": "yWgey2ljgGq2",
        "outputId": "49fcf113-b6dd-468b-eb3e-319dde71d2ea"
      },
      "execution_count": 16,
      "outputs": [
        {
          "output_type": "stream",
          "name": "stdout",
          "text": [
            "Интеграл от cos(5x) * cos(3x) dx: -3*sin(3*x)*cos(5*x)/16 + 5*sin(5*x)*cos(3*x)/16 + C\n"
          ]
        }
      ]
    },
    {
      "cell_type": "markdown",
      "source": [
        "## 15)  ∫ (2x+sin(2x))dx [0; П]"
      ],
      "metadata": {
        "id": "SkT9wRVbgUcP"
      }
    },
    {
      "cell_type": "code",
      "source": [
        "# Определяем переменные\n",
        "x = sp.symbols('x')\n",
        "\n",
        "# Определяем подынтегральное выражение\n",
        "expr = 2*x + sp.sin(2*x)\n",
        "\n",
        "# Находим определенный интеграл\n",
        "integral = sp.integrate(expr, (x, 0, sp.pi))\n",
        "\n",
        "# Выводим результат\n",
        "print(f\"Интеграл от (2x + sin(2x)) от 0 до π: {integral}\")"
      ],
      "metadata": {
        "colab": {
          "base_uri": "https://localhost:8080/"
        },
        "id": "Nyftkuqxgp4L",
        "outputId": "2994a5cd-0e53-4792-e93f-545a37690d04"
      },
      "execution_count": 17,
      "outputs": [
        {
          "output_type": "stream",
          "name": "stdout",
          "text": [
            "Интеграл от (2x + sin(2x)) от 0 до π: pi**2\n"
          ]
        }
      ]
    },
    {
      "cell_type": "markdown",
      "source": [
        "## 16)   ∫ (4x - 2) dx [1/2; 1]"
      ],
      "metadata": {
        "id": "gPdagCM3gwL5"
      }
    },
    {
      "cell_type": "code",
      "source": [
        "# Определяем переменную\n",
        "x = sp.symbols('x')\n",
        "\n",
        "# Определяем подынтегральное выражение\n",
        "expr = 4*x - 2\n",
        "\n",
        "# Находим определенный интеграл\n",
        "integral = sp.integrate(expr, (x, 1/2, 1))\n",
        "\n",
        "# Выводим результат\n",
        "print(f\"Интеграл от (4x - 2) от 1/2 до 1: {integral}\")"
      ],
      "metadata": {
        "colab": {
          "base_uri": "https://localhost:8080/"
        },
        "id": "zvgPgMy9hdmF",
        "outputId": "b4fa4fe2-64a7-40bf-b439-99e99a2ba926"
      },
      "execution_count": 18,
      "outputs": [
        {
          "output_type": "stream",
          "name": "stdout",
          "text": [
            "Интеграл от (4x - 2) от 1/2 до 1: 0.500000000000000\n"
          ]
        }
      ]
    },
    {
      "cell_type": "markdown",
      "source": [
        "## 17)  ∫ e^(-4x) dx [0; ∞ ]"
      ],
      "metadata": {
        "id": "o4q7yJj_htwJ"
      }
    },
    {
      "cell_type": "code",
      "source": [
        "# Определяем переменную\n",
        "x = sp.symbols('x')\n",
        "\n",
        "# Определяем подынтегральное выражение\n",
        "expr = sp.exp(-4*x)\n",
        "\n",
        "# Находим определенный интеграл\n",
        "integral = sp.integrate(expr, (x, 0, sp.oo))\n",
        "\n",
        "# Выводим результат\n",
        "print(f\"Интеграл от e^(-4x) от 0 до бесконечности: {integral}\")"
      ],
      "metadata": {
        "colab": {
          "base_uri": "https://localhost:8080/"
        },
        "id": "K1A1nF5Fif25",
        "outputId": "eeb90fc7-4578-48e6-9987-3c4346a30a90"
      },
      "execution_count": 19,
      "outputs": [
        {
          "output_type": "stream",
          "name": "stdout",
          "text": [
            "Интеграл от e^(-4x) от 0 до бесконечности: 1/4\n"
          ]
        }
      ]
    },
    {
      "cell_type": "markdown",
      "source": [
        "## 18). ∫ lnx dx (0; 1)"
      ],
      "metadata": {
        "id": "nZTjHVKPilmu"
      }
    },
    {
      "cell_type": "code",
      "source": [
        "# Определяем переменную\n",
        "x = sp.symbols('x')\n",
        "\n",
        "# Определяем подынтегральное выражение\n",
        "expr = sp.ln(x)\n",
        "\n",
        "# Находим определенный интеграл\n",
        "integral = sp.integrate(expr, (x, 0, 1))\n",
        "\n",
        "# Выводим результат\n",
        "print(f\"Интеграл от ln(x) от 0 до 1: {integral}\")"
      ],
      "metadata": {
        "colab": {
          "base_uri": "https://localhost:8080/"
        },
        "id": "ZntB3cBGjGAw",
        "outputId": "8a64efbb-0ec0-4ae8-fdd5-7e5e171fe6d7"
      },
      "execution_count": 20,
      "outputs": [
        {
          "output_type": "stream",
          "name": "stdout",
          "text": [
            "Интеграл от ln(x) от 0 до 1: -1\n"
          ]
        }
      ]
    }
  ]
}
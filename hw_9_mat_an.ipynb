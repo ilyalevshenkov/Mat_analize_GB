{
  "nbformat": 4,
  "nbformat_minor": 0,
  "metadata": {
    "colab": {
      "provenance": [],
      "toc_visible": true
    },
    "kernelspec": {
      "name": "python3",
      "display_name": "Python 3"
    },
    "language_info": {
      "name": "python"
    }
  },
  "cells": [
    {
      "cell_type": "markdown",
      "source": [
        "## ДЗ к занятию №9\n",
        "\n",
        "## Задание 1.\n",
        "##Найти dz/dt , если z = z(x; y), x = x(t), y = y(t):\n",
        "\n",
        "## 1. z = x^2 + y^2 + xy,  \n",
        "## x = a sin t, y = a cost;"
      ],
      "metadata": {
        "id": "GFsVTFJjPhI5"
      }
    },
    {
      "cell_type": "code",
      "execution_count": 2,
      "metadata": {
        "colab": {
          "base_uri": "https://localhost:8080/",
          "height": 38
        },
        "id": "IK-SmL_1PHOO",
        "outputId": "3a6b36a3-f67d-4579-91d3-fb4971a8ae8d"
      },
      "outputs": [
        {
          "output_type": "execute_result",
          "data": {
            "text/plain": [
              "a**2*cos(2*t)"
            ],
            "text/latex": "$\\displaystyle a^{2} \\cos{\\left(2 t \\right)}$"
          },
          "metadata": {},
          "execution_count": 2
        }
      ],
      "source": [
        "import sympy as sp\n",
        "\n",
        "# Объявляем переменные\n",
        "t, a = sp.symbols('t a')\n",
        "x, y = sp.symbols('x y')\n",
        "\n",
        "# Задаем функции x(t) и y(t)\n",
        "x_t = a * sp.sin(t)\n",
        "y_t = a * sp.cos(t)\n",
        "\n",
        "# Определяем функцию z\n",
        "z = x**2 + y**2 + x*y\n",
        "\n",
        "# Вычисляем частные производные\n",
        "dz_dx = sp.diff(z, x)\n",
        "dz_dy = sp.diff(z, y)\n",
        "\n",
        "# Вычисляем производные x(t) и y(t)\n",
        "dx_dt = sp.diff(x_t, t)\n",
        "dy_dt = sp.diff(y_t, t)\n",
        "\n",
        "# Подставляем значения для x и y\n",
        "dz_dt = dz_dx.subs(x, x_t).subs(y, y_t) * dx_dt + dz_dy.subs(x, x_t).subs(y, y_t) * dy_dt\n",
        "\n",
        "# Упрощаем результат\n",
        "dz_dt_simplified = sp.simplify(dz_dt)\n",
        "dz_dt_simplified"
      ]
    },
    {
      "cell_type": "markdown",
      "source": [
        "## 2. Для данных z = f(x; y), x = x(u; v), y = y(u; v) найти ∂z/∂u, ∂z/∂v и dz:\n",
        "\n",
        "##1. z = x^3 + y^3, где x = uv, y =u/v"
      ],
      "metadata": {
        "id": "az5Y46wERPnG"
      }
    },
    {
      "cell_type": "code",
      "source": [
        "# Определяем переменные\n",
        "u, v = sp.symbols('u v')\n",
        "x, y = sp.symbols('x y')\n",
        "\n",
        "# Определяем выражения для x(u, v) и y(u, v)\n",
        "x_expr = u * v\n",
        "y_expr = u / v\n",
        "\n",
        "# Определяем функцию z(x, y)\n",
        "z = x**3 + y**3\n",
        "\n",
        "# Вычисляем частные производные z по x и y\n",
        "dz_dx = sp.diff(z, x)\n",
        "dz_dy = sp.diff(z, y)\n",
        "\n",
        "# Вычисляем частные производные x и y по u и v\n",
        "dx_du = sp.diff(x_expr, u)\n",
        "dx_dv = sp.diff(x_expr, v)\n",
        "dy_du = sp.diff(y_expr, u)\n",
        "dy_dv = sp.diff(y_expr, v)\n",
        "\n",
        "# Подставляем выражения для x и y в частные производные z\n",
        "dz_du = dz_dx.subs(x, x_expr).subs(y, y_expr) * dx_du + dz_dy.subs(x, x_expr).subs(y, y_expr) * dy_du\n",
        "dz_dv = dz_dx.subs(x, x_expr).subs(y, y_expr) * dx_dv + dz_dy.subs(x, x_expr).subs(y, y_expr) * dy_dv\n",
        "\n",
        "# Полный дифференциал dz\n",
        "dz = dz_du * sp.Symbol('du') + dz_dv * sp.Symbol('dv')\n",
        "\n",
        "# Упрощаем выражения\n",
        "dz_du_simplified = sp.simplify(dz_du)\n",
        "dz_dv_simplified = sp.simplify(dz_dv)\n",
        "dz_simplified = sp.simplify(dz)\n",
        "\n",
        "dz_du_simplified, dz_dv_simplified, dz_simplified"
      ],
      "metadata": {
        "colab": {
          "base_uri": "https://localhost:8080/"
        },
        "id": "frZaL5PNSkv2",
        "outputId": "f38586bd-07c2-43a5-9b40-3c200be92cd8"
      },
      "execution_count": 4,
      "outputs": [
        {
          "output_type": "execute_result",
          "data": {
            "text/plain": [
              "(3*u**2*(v**6 + 1)/v**3,\n",
              " 3*u**3*(v**6 - 1)/v**4,\n",
              " 3*u**2*(du*v*(v**6 + 1) + dv*u*(v**6 - 1))/v**4)"
            ]
          },
          "metadata": {},
          "execution_count": 4
        }
      ]
    },
    {
      "cell_type": "markdown",
      "source": [
        "## 3. Найти производные y'(x) неявных функций, заданных уравнениями:\n",
        "\n",
        "## xe^(2y) - y*ln x = 8."
      ],
      "metadata": {
        "id": "sBzefGwgSr5f"
      }
    },
    {
      "cell_type": "code",
      "source": [
        "# Определяем переменные\n",
        "x, y = sp.symbols('x y')\n",
        "\n",
        "# Задаем уравнение\n",
        "equation = x * sp.exp(2 * y) - y * sp.ln(x) - 8\n",
        "\n",
        "# Находим производную неявной функции y по x\n",
        "# Неявное дифференцирование с использованием функции sp.diff\n",
        "dy_dx = sp.diff(equation, x) + sp.diff(equation, y) * sp.Derivative(y, x)\n",
        "\n",
        "# Решаем уравнение относительно y'\n",
        "y_prime = sp.solve(dy_dx, sp.Derivative(y, x))\n",
        "\n",
        "# Вывод результата\n",
        "print(f\"Производная y'(x): {y_prime[0]}\")"
      ],
      "metadata": {
        "colab": {
          "base_uri": "https://localhost:8080/"
        },
        "id": "9gPz5riNUJ6g",
        "outputId": "c0c3fcb7-06c5-4b4e-e589-191df6049e77"
      },
      "execution_count": 7,
      "outputs": [
        {
          "output_type": "stream",
          "name": "stdout",
          "text": [
            "Производная y'(x): (-x*exp(2*y) + y)/(x*(2*x*exp(2*y) - log(x)))\n"
          ]
        }
      ]
    },
    {
      "cell_type": "markdown",
      "source": [
        "## 4. Составить уравнение касательной прямой и нормали к кривой y = y(x), заданной уравнением F(x; y) = 0 в точке M0(x0; y0):\n",
        "\n",
        "## x^3y − y^3x = 6, M0(2; 1)."
      ],
      "metadata": {
        "id": "sy455nDpUOWI"
      }
    },
    {
      "cell_type": "code",
      "source": [
        "# Определяем переменные\n",
        "x, y = sp.symbols('x y')\n",
        "\n",
        "# Задаем уравнение F(x, y) = 0\n",
        "F = x**3 * y - y**3 * x - 6\n",
        "\n",
        "# Находим производную y'(x) неявной функции методом неявного дифференцирования\n",
        "dy_dx = -sp.diff(F, x) / sp.diff(F, y)\n",
        "\n",
        "# Определяем точку M0 (x0, y0)\n",
        "x0, y0 = 2, 1\n",
        "\n",
        "# Вычисляем значение производной в точке M0\n",
        "slope_tangent = dy_dx.subs({x: x0, y: y0})\n",
        "\n",
        "# Уравнение касательной прямой: y - y0 = m * (x - x0)\n",
        "tangent_line = sp.Eq(y - y0, slope_tangent * (x - x0))\n",
        "\n",
        "# Уравнение нормали: y - y0 = -1/m * (x - x0)\n",
        "slope_normal = -1 / slope_tangent\n",
        "normal_line = sp.Eq(y - y0, slope_normal * (x - x0))\n",
        "\n",
        "# Вывод результатов\n",
        "print(f\"Производная y'(x) в точке M0({x0}, {y0}): {slope_tangent}\")\n",
        "print(f\"Уравнение касательной прямой в точке M0: {sp.simplify(tangent_line)}\")\n",
        "print(f\"Уравнение нормали в точке M0: {sp.simplify(normal_line)}\")"
      ],
      "metadata": {
        "colab": {
          "base_uri": "https://localhost:8080/"
        },
        "id": "AXEIZOjhUmg0",
        "outputId": "10a7571f-26da-428c-fd09-c6a3b41d6c13"
      },
      "execution_count": 8,
      "outputs": [
        {
          "output_type": "stream",
          "name": "stdout",
          "text": [
            "Производная y'(x) в точке M0(2, 1): -11/2\n",
            "Уравнение касательной прямой в точке M0: Eq(11*x + 2*y, 24)\n",
            "Уравнение нормали в точке M0: Eq(2*x - 11*y, -7)\n"
          ]
        }
      ]
    },
    {
      "cell_type": "markdown",
      "source": [
        "## 5. Для данных функций найти требуемую частную производную или дифференциал:\n",
        "\n",
        "## 1. z = sin x sin y, d^2z;"
      ],
      "metadata": {
        "id": "9O-i64FfVBpX"
      }
    },
    {
      "cell_type": "code",
      "source": [
        "# Определяем переменные\n",
        "x, y = sp.symbols('x y')\n",
        "\n",
        "# Определяем функцию z\n",
        "z = sp.sin(x) * sp.sin(y)\n",
        "\n",
        "# Вычисляем частные производные первого порядка\n",
        "dz_dx = sp.diff(z, x)\n",
        "dz_dy = sp.diff(z, y)\n",
        "\n",
        "# Вычисляем частные производные второго порядка\n",
        "d2z_dx2 = sp.diff(dz_dx, x)\n",
        "d2z_dy2 = sp.diff(dz_dy, y)\n",
        "d2z_dxdy = sp.diff(dz_dx, y)  # или sp.diff(dz_dy, x)\n",
        "\n",
        "# Полный дифференциал dz\n",
        "dz = dz_dx * sp.Symbol('dx') + dz_dy * sp.Symbol('dy')\n",
        "\n",
        "# Упрощаем результаты\n",
        "dz_dx_simplified = sp.simplify(dz_dx)\n",
        "dz_dy_simplified = sp.simplify(dz_dy)\n",
        "d2z_dx2_simplified = sp.simplify(d2z_dx2)\n",
        "d2z_dy2_simplified = sp.simplify(d2z_dy2)\n",
        "d2z_dxdy_simplified = sp.simplify(d2z_dxdy)\n",
        "dz_simplified = sp.simplify(dz)\n",
        "\n",
        "# Вывод результатов\n",
        "print(f\"Частная производная ∂z/∂x: {dz_dx_simplified}\")\n",
        "print(f\"Частная производная ∂z/∂y: {dz_dy_simplified}\")\n",
        "print(f\"Частная производная второго порядка ∂²z/∂x²: {d2z_dx2_simplified}\")\n",
        "print(f\"Частная производная второго порядка ∂²z/∂y²: {d2z_dy2_simplified}\")\n",
        "print(f\"Смешанная частная производная ∂²z/∂x∂y: {d2z_dxdy_simplified}\")\n",
        "print(f\"Полный дифференциал dz: {dz_simplified}\")"
      ],
      "metadata": {
        "colab": {
          "base_uri": "https://localhost:8080/"
        },
        "id": "I5xNS3TsVT8-",
        "outputId": "a23b5894-4451-478c-8eca-58bf7d90ea8e"
      },
      "execution_count": 9,
      "outputs": [
        {
          "output_type": "stream",
          "name": "stdout",
          "text": [
            "Частная производная ∂z/∂x: sin(y)*cos(x)\n",
            "Частная производная ∂z/∂y: sin(x)*cos(y)\n",
            "Частная производная второго порядка ∂²z/∂x²: -sin(x)*sin(y)\n",
            "Частная производная второго порядка ∂²z/∂y²: -sin(x)*sin(y)\n",
            "Смешанная частная производная ∂²z/∂x∂y: cos(x)*cos(y)\n",
            "Полный дифференциал dz: dx*sin(y)*cos(x) + dy*sin(x)*cos(y)\n"
          ]
        }
      ]
    },
    {
      "cell_type": "markdown",
      "source": [
        "## 2. z = xy + sin(x + y), [∂^2z] / [∂x^2]"
      ],
      "metadata": {
        "id": "rZqM0lh8Vjgl"
      }
    },
    {
      "cell_type": "code",
      "source": [
        "# Определяем переменные\n",
        "x, y = sp.symbols('x y')\n",
        "\n",
        "# Определяем функцию z\n",
        "z = x * y + sp.sin(x + y)\n",
        "\n",
        "# Вычисляем частную производную первого порядка по x\n",
        "dz_dx = sp.diff(z, x)\n",
        "\n",
        "# Вычисляем частную производную второго порядка по x\n",
        "d2z_dx2 = sp.diff(dz_dx, x)\n",
        "\n",
        "# Упрощаем результаты\n",
        "dz_dx_simplified = sp.simplify(dz_dx)\n",
        "d2z_dx2_simplified = sp.simplify(d2z_dx2)\n",
        "\n",
        "# Вывод результатов\n",
        "print(f\"Частная производная ∂z/∂x: {dz_dx_simplified}\")\n",
        "print(f\"Частная производная второго порядка ∂²z/∂x²: {d2z_dx2_simplified}\")"
      ],
      "metadata": {
        "colab": {
          "base_uri": "https://localhost:8080/"
        },
        "id": "bzDYZ2VjV3K5",
        "outputId": "552fea91-60d7-4c70-8505-58ccae2b38cf"
      },
      "execution_count": 10,
      "outputs": [
        {
          "output_type": "stream",
          "name": "stdout",
          "text": [
            "Частная производная ∂z/∂x: y + cos(x + y)\n",
            "Частная производная второго порядка ∂²z/∂x²: -sin(x + y)\n"
          ]
        }
      ]
    }
  ]
}
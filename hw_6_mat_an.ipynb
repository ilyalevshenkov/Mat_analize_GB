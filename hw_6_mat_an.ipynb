{
  "nbformat": 4,
  "nbformat_minor": 0,
  "metadata": {
    "colab": {
      "provenance": [],
      "toc_visible": true
    },
    "kernelspec": {
      "name": "python3",
      "display_name": "Python 3"
    },
    "language_info": {
      "name": "python"
    }
  },
  "cells": [
    {
      "cell_type": "markdown",
      "source": [
        "# ДЗ к уроку №6\n",
        "\n",
        "## Задание 1.  Найти производные указанных функций:\n",
        "\n",
        "###1) y = x^3 log2 x"
      ],
      "metadata": {
        "id": "c-kGcUmb_2gG"
      }
    },
    {
      "cell_type": "markdown",
      "source": [],
      "metadata": {
        "id": "Phc_OCsLAR1l"
      }
    },
    {
      "cell_type": "code",
      "execution_count": 1,
      "metadata": {
        "colab": {
          "base_uri": "https://localhost:8080/",
          "height": 58
        },
        "id": "p0HIs_R4_pxZ",
        "outputId": "6d262369-5fe7-4f94-9754-057207221134"
      },
      "outputs": [
        {
          "output_type": "execute_result",
          "data": {
            "text/plain": [
              "3*x**2*log(x)/log(2) + x**2/log(2)"
            ],
            "text/latex": "$\\displaystyle \\frac{3 x^{2} \\log{\\left(x \\right)}}{\\log{\\left(2 \\right)}} + \\frac{x^{2}}{\\log{\\left(2 \\right)}}$"
          },
          "metadata": {},
          "execution_count": 1
        }
      ],
      "source": [
        "import sympy as sp\n",
        "\n",
        "# Определяем переменную\n",
        "x = sp.symbols('x')\n",
        "\n",
        "# Определяем функцию y = x^3 * log2(x)\n",
        "y = x**3 * sp.log(x, 2)\n",
        "\n",
        "# Находим производную функции\n",
        "y_prime = sp.diff(y, x)\n",
        "\n",
        "y_prime"
      ]
    },
    {
      "cell_type": "markdown",
      "source": [
        "###2) y = - 10 arctg x + 7 * e^x\n"
      ],
      "metadata": {
        "id": "frDaqQWODFK7"
      }
    },
    {
      "cell_type": "code",
      "source": [
        "# Определяем переменную\n",
        "x = sp.symbols('x')\n",
        "\n",
        "# Определяем функцию\n",
        "y = -10 * sp.atan(x) + 7 * sp.exp(x)\n",
        "\n",
        "# Находим производную функции\n",
        "y_prime = sp.diff(y, x)\n",
        "\n",
        "y_prime"
      ],
      "metadata": {
        "colab": {
          "base_uri": "https://localhost:8080/",
          "height": 52
        },
        "id": "snxWAvzHDanR",
        "outputId": "95cb373a-9f82-4251-8b2c-feb94ce14cdd"
      },
      "execution_count": 2,
      "outputs": [
        {
          "output_type": "execute_result",
          "data": {
            "text/plain": [
              "7*exp(x) - 10/(x**2 + 1)"
            ],
            "text/latex": "$\\displaystyle 7 e^{x} - \\frac{10}{x^{2} + 1}$"
          },
          "metadata": {},
          "execution_count": 2
        }
      ]
    },
    {
      "cell_type": "markdown",
      "source": [
        "### 3) y = [ 1/ (x^2)^1/3 ] - [2 / x^3 ] + (7)^0,5 * x"
      ],
      "metadata": {
        "id": "sFr1REiHGb-b"
      }
    },
    {
      "cell_type": "code",
      "source": [
        "import sympy as sp\n",
        "\n",
        "# Определяем переменную\n",
        "x = sp.symbols('x')\n",
        "\n",
        "# Определяем функцию\n",
        "y = x**(-2/3) - 2*x**(-3) + sp.sqrt(7)*x\n",
        "\n",
        "# Находим производную\n",
        "dy_dx = sp.diff(y, x)\n",
        "\n",
        "# Выводим результат\n",
        "print(\"Производная функции y по x:\")\n",
        "print(dy_dx)\n"
      ],
      "metadata": {
        "colab": {
          "base_uri": "https://localhost:8080/"
        },
        "id": "0OMBymtaGc6X",
        "outputId": "61a307e2-75d8-460d-c9c2-bb3a8cae5763"
      },
      "execution_count": 9,
      "outputs": [
        {
          "output_type": "stream",
          "name": "stdout",
          "text": [
            "Производная функции y по x:\n",
            "-0.666666666666667/x**1.66666666666667 + sqrt(7) + 6/x**4\n"
          ]
        }
      ]
    },
    {
      "cell_type": "markdown",
      "source": [
        "### 4) y = cos [ (1 - √x) / (1 + √x) ]"
      ],
      "metadata": {
        "id": "sYnSYK_VEHbs"
      }
    },
    {
      "cell_type": "code",
      "source": [
        "# Определяем переменную и функцию в одной строке, затем сразу находим производную\n",
        "x = sp.symbols('x')\n",
        "y_prime = sp.diff(sp.cos((1 - sp.sqrt(x)) / (1 + sp.sqrt(x))), x)\n",
        "\n",
        "# Выводим результат\n",
        "y_prime\n"
      ],
      "metadata": {
        "colab": {
          "base_uri": "https://localhost:8080/",
          "height": 68
        },
        "id": "CioiOhB_Ffwo",
        "outputId": "ab092b0d-d2fe-4cc7-a1ad-f607313038b5"
      },
      "execution_count": 7,
      "outputs": [
        {
          "output_type": "execute_result",
          "data": {
            "text/plain": [
              "-(-(1 - sqrt(x))/(2*sqrt(x)*(sqrt(x) + 1)**2) - 1/(2*sqrt(x)*(sqrt(x) + 1)))*sin((1 - sqrt(x))/(sqrt(x) + 1))"
            ],
            "text/latex": "$\\displaystyle - \\left(- \\frac{1 - \\sqrt{x}}{2 \\sqrt{x} \\left(\\sqrt{x} + 1\\right)^{2}} - \\frac{1}{2 \\sqrt{x} \\left(\\sqrt{x} + 1\\right)}\\right) \\sin{\\left(\\frac{1 - \\sqrt{x}}{\\sqrt{x} + 1} \\right)}$"
          },
          "metadata": {},
          "execution_count": 7
        }
      ]
    },
    {
      "cell_type": "markdown",
      "source": [
        "###5)  y = e^sh2^5x\n"
      ],
      "metadata": {
        "id": "Y5jvDdGAFnPb"
      }
    },
    {
      "cell_type": "code",
      "source": [
        "# Определяем переменную\n",
        "x = sp.symbols('x')\n",
        "\n",
        "# Определяем функцию y = e^(sinh^2(5x))\n",
        "y = sp.exp(sp.sinh(5 * x)**2)\n",
        "\n",
        "# Находим производную функции\n",
        "y_prime = sp.diff(y, x)\n",
        "\n",
        "# Выводим результат\n",
        "y_prime\n"
      ],
      "metadata": {
        "colab": {
          "base_uri": "https://localhost:8080/",
          "height": 41
        },
        "id": "pQ4ZXj51F6U5",
        "outputId": "e0094448-cb79-4b8d-a0de-71070b323d8a"
      },
      "execution_count": 8,
      "outputs": [
        {
          "output_type": "execute_result",
          "data": {
            "text/plain": [
              "10*exp(sinh(5*x)**2)*sinh(5*x)*cosh(5*x)"
            ],
            "text/latex": "$\\displaystyle 10 e^{\\sinh^{2}{\\left(5 x \\right)}} \\sinh{\\left(5 x \\right)} \\cosh{\\left(5 x \\right)}$"
          },
          "metadata": {},
          "execution_count": 8
        }
      ]
    },
    {
      "cell_type": "markdown",
      "source": [
        "## 6) y = ln [ (x + 1) * (x + 3)^3] / [(x + 2)^3 * (x + 4)]"
      ],
      "metadata": {
        "id": "hv91_1_XIxfC"
      }
    },
    {
      "cell_type": "code",
      "source": [
        "# Определяем переменную\n",
        "x = sp.symbols('x')\n",
        "\n",
        "# Определяем функции u(x) и v(x)\n",
        "u = (x + 1) * (x + 3)**3\n",
        "v = (x + 2)**3 * (x + 4)\n",
        "\n",
        "# Определяем функцию y\n",
        "y = sp.ln(u / v)\n",
        "\n",
        "# Находим производную функции y\n",
        "dy_dx = sp.diff(y, x)\n",
        "\n",
        "# Упрощаем результат\n",
        "dy_dx_simplified = sp.simplify(dy_dx)\n",
        "\n",
        "# Выводим результат\n",
        "print(\"Производная функции y по x:\")\n",
        "print(sp.pretty(dy_dx_simplified))"
      ],
      "metadata": {
        "colab": {
          "base_uri": "https://localhost:8080/"
        },
        "id": "54NL462PJr9v",
        "outputId": "d2970ad1-dfa8-457d-a84e-7e93c79050a9"
      },
      "execution_count": 11,
      "outputs": [
        {
          "output_type": "stream",
          "name": "stdout",
          "text": [
            "Производная функции y по x:\n",
            "              6               \n",
            "──────────────────────────────\n",
            " 4       3       2            \n",
            "x  + 10⋅x  + 35⋅x  + 50⋅x + 24\n"
          ]
        }
      ]
    },
    {
      "cell_type": "markdown",
      "source": [
        "### 7) y = [sin^2 x / (ctg x + 1) + [cos^2 x / (tg x + 1)]"
      ],
      "metadata": {
        "id": "230B26TPJ7fl"
      }
    },
    {
      "cell_type": "code",
      "source": [
        "# Определяем переменную\n",
        "x = sp.symbols('x')\n",
        "\n",
        "# Определяем тригонометрические функции\n",
        "sin_x = sp.sin(x)\n",
        "cos_x = sp.cos(x)\n",
        "cot_x = sp.cot(x)\n",
        "tan_x = sp.tan(x)\n",
        "\n",
        "# Определяем функцию y\n",
        "part1 = sin_x**2 / (cot_x + 1)\n",
        "part2 = cos_x**2 / (tan_x + 1)\n",
        "y = part1 + part2\n",
        "\n",
        "# Находим производную функции y\n",
        "dy_dx = sp.diff(y, x)\n",
        "\n",
        "# Упрощаем результат\n",
        "dy_dx_simplified = sp.simplify(dy_dx)\n",
        "\n",
        "# Выводим результат\n",
        "print(\"Производная функции y по x:\")\n",
        "print(sp.pretty(dy_dx_simplified))"
      ],
      "metadata": {
        "colab": {
          "base_uri": "https://localhost:8080/"
        },
        "id": "3kLQKIwOKrA4",
        "outputId": "51f90902-0b83-487e-c7fb-090f7479929f"
      },
      "execution_count": 12,
      "outputs": [
        {
          "output_type": "stream",
          "name": "stdout",
          "text": [
            "Производная функции y по x:\n",
            "sin(2⋅x)⋅tan(x) - sin(2⋅x) + tan(x) - 1\n",
            "───────────────────────────────────────\n",
            "              tan(x) + 1               \n"
          ]
        }
      ]
    },
    {
      "cell_type": "markdown",
      "source": [
        "## Задание 2. Найти производную данной функции в точке x0\n",
        "\n",
        "## 1) y = ln x / x, при x0 = e"
      ],
      "metadata": {
        "id": "ZZM0jd0bK6R-"
      }
    },
    {
      "cell_type": "code",
      "source": [
        "# Определяем переменную\n",
        "x = sp.symbols('x')\n",
        "\n",
        "# Определяем функцию y\n",
        "y = sp.ln(x) / x\n",
        "\n",
        "# Находим производную функции y\n",
        "dy_dx = sp.diff(y, x)\n",
        "\n",
        "# Подставляем x0 = e\n",
        "x0 = sp.exp(1)\n",
        "dy_dx_at_x0 = dy_dx.subs(x, x0)\n",
        "\n",
        "# Выводим результат\n",
        "print(\"Производная функции y в точке x0 = e:\")\n",
        "print(dy_dx_at_x0)"
      ],
      "metadata": {
        "colab": {
          "base_uri": "https://localhost:8080/"
        },
        "id": "oml6_4fBKzBa",
        "outputId": "e4f76aeb-a82a-4012-8e70-afd7021bbabf"
      },
      "execution_count": 13,
      "outputs": [
        {
          "output_type": "stream",
          "name": "stdout",
          "text": [
            "Производная функции y в точке x0 = e:\n",
            "0\n"
          ]
        }
      ]
    },
    {
      "cell_type": "markdown",
      "source": [
        "## 2) y = √x / [√x+1],  при x0 = 9."
      ],
      "metadata": {
        "id": "Mt49hVW9L7zq"
      }
    },
    {
      "cell_type": "code",
      "source": [
        "# Определяем переменную\n",
        "x = sp.symbols('x')\n",
        "\n",
        "# Определяем функции u(x) и v(x)\n",
        "u = sp.sqrt(x)\n",
        "v = sp.sqrt(x) + 1\n",
        "\n",
        "# Определяем функцию y\n",
        "y = u / v\n",
        "\n",
        "# Находим производную функции y\n",
        "dy_dx = sp.diff(y, x)\n",
        "\n",
        "# Подставляем x0 = 9\n",
        "x0 = 9\n",
        "dy_dx_at_x0 = dy_dx.subs(x, x0)\n",
        "\n",
        "# Выводим результат\n",
        "print(\"Производная функции y в точке x0 = 9:\")\n",
        "print(dy_dx_at_x0)"
      ],
      "metadata": {
        "colab": {
          "base_uri": "https://localhost:8080/"
        },
        "id": "0DWk4uu5MN2w",
        "outputId": "1bb08693-4aa8-4d6d-c376-44728fc835c7"
      },
      "execution_count": 14,
      "outputs": [
        {
          "output_type": "stream",
          "name": "stdout",
          "text": [
            "Производная функции y в точке x0 = 9:\n",
            "1/96\n"
          ]
        }
      ]
    },
    {
      "cell_type": "markdown",
      "source": [
        "## Используя логарифмическую производную, найти производные функций:\n",
        "\n",
        "## 1) y = x^ln x"
      ],
      "metadata": {
        "id": "HmPcmXwSMdWn"
      }
    },
    {
      "cell_type": "code",
      "source": [
        "# Определяем переменную\n",
        "x = sp.symbols('x')\n",
        "\n",
        "# Определяем функцию y\n",
        "y = x**sp.ln(x)\n",
        "\n",
        "# Находим производную функции y\n",
        "dy_dx = sp.diff(y, x)\n",
        "\n",
        "# Выводим результат\n",
        "print(\"Производная функции y = x^ln(x):\")\n",
        "print(dy_dx)"
      ],
      "metadata": {
        "colab": {
          "base_uri": "https://localhost:8080/"
        },
        "id": "t9Xy2RDRMy55",
        "outputId": "7f7837e8-30cd-459c-bcc8-0f675a459434"
      },
      "execution_count": 15,
      "outputs": [
        {
          "output_type": "stream",
          "name": "stdout",
          "text": [
            "Производная функции y = x^ln(x):\n",
            "2*x**log(x)*log(x)/x\n"
          ]
        }
      ]
    },
    {
      "cell_type": "markdown",
      "source": [
        "## 2) y =[(x^3 -2)* (x -1)^(1/3)] / (x+5)^4"
      ],
      "metadata": {
        "id": "iZFuMmDwNHLK"
      }
    },
    {
      "cell_type": "code",
      "source": [
        "# Определяем переменную\n",
        "x = sp.symbols('x')\n",
        "\n",
        "# Определяем функцию y\n",
        "y = (x**3 - 2) * (x - 1)**(1/3) / (x + 5)**4\n",
        "\n",
        "# Находим логарифм обеих сторон\n",
        "log_y = sp.ln(y)\n",
        "\n",
        "# Находим производную логарифма\n",
        "d_log_y = sp.diff(log_y, x)\n",
        "\n",
        "# Получаем производную функции\n",
        "dy_dx = sp.exp(log_y) * d_log_y\n",
        "\n",
        "# Упрощаем результат\n",
        "dy_dx_simplified = sp.simplify(dy_dx)\n",
        "\n",
        "# Выводим результат\n",
        "print(\"Производная функции y:\")\n",
        "print(sp.pretty(dy_dx_simplified))"
      ],
      "metadata": {
        "colab": {
          "base_uri": "https://localhost:8080/"
        },
        "id": "WuloJXO_OTxV",
        "outputId": "6567e37c-c196-4fb6-96b7-f8760197bb55"
      },
      "execution_count": 16,
      "outputs": [
        {
          "output_type": "stream",
          "name": "stdout",
          "text": [
            "Производная функции y:\n",
            "       -0.666666666666667 ⎛   2        1.0             ⎛     3⎞        1.0           ⎛             ↪\n",
            "(x - 1)                  ⋅⎝3⋅x ⋅(x - 1)   ⋅(x + 5) + 4⋅⎝2 - x ⎠⋅(x - 1)    + (x + 5)⋅⎝0.3333333333 ↪\n",
            "────────────────────────────────────────────────────────────────────────────────────────────────── ↪\n",
            "                                                                   5                               ↪\n",
            "                                                            (x + 5)                                ↪\n",
            "\n",
            "↪        3                    ⎞⎞\n",
            "↪ 33333⋅x  - 0.666666666666667⎠⎠\n",
            "↪ ──────────────────────────────\n",
            "↪                               \n",
            "↪                               \n"
          ]
        }
      ]
    },
    {
      "cell_type": "markdown",
      "source": [
        "## y = (tg x)^(cos x)"
      ],
      "metadata": {
        "id": "1zqjV5ycPA8h"
      }
    },
    {
      "cell_type": "code",
      "source": [
        "# Определяем переменную\n",
        "x = sp.symbols('x')\n",
        "\n",
        "# Определяем функцию y\n",
        "y = (sp.tan(x))**(sp.cos(x))\n",
        "\n",
        "# Находим логарифм обеих сторон\n",
        "log_y = sp.ln(y)\n",
        "\n",
        "# Находим производную логарифма\n",
        "d_log_y = sp.diff(log_y, x)\n",
        "\n",
        "# Получаем производную функции\n",
        "dy_dx = sp.exp(log_y) * d_log_y\n",
        "\n",
        "# Упрощаем результат\n",
        "dy_dx_simplified = sp.simplify(dy_dx)\n",
        "\n",
        "# Выводим результат в удобной форме\n",
        "print(\"Производная функции y = (tan(x))^cos(x):\")\n",
        "print(sp.pretty(dy_dx_simplified))"
      ],
      "metadata": {
        "colab": {
          "base_uri": "https://localhost:8080/"
        },
        "id": "H7D75tLtPQzR",
        "outputId": "cdd7d745-27a4-4db4-a41c-1f8a1fd39b24"
      },
      "execution_count": 20,
      "outputs": [
        {
          "output_type": "stream",
          "name": "stdout",
          "text": [
            "Производная функции y = (tan(x))^cos(x):\n",
            "⎛                 2       ⎞    cos(x) - 1   \n",
            "⎝- log(tan(x))⋅sin (x) + 1⎠⋅tan          (x)\n",
            "────────────────────────────────────────────\n",
            "                   cos(x)                   \n"
          ]
        }
      ]
    },
    {
      "cell_type": "markdown",
      "source": [
        "## Задание 4. Найти производную неявно заданной функции:\n",
        "\n",
        "## 1) e^(xy) - cos(x^2 + y^2) = 0"
      ],
      "metadata": {
        "id": "0_dDjHThP1Ug"
      }
    },
    {
      "cell_type": "code",
      "source": [
        "# Определяем переменные\n",
        "x, y = sp.symbols('x y')\n",
        "\n",
        "# Определяем функцию y неявно\n",
        "expr = sp.exp(x * y) - sp.cos(x**2 + y**2)\n",
        "\n",
        "# Находим частные производные\n",
        "d_expr_dx = sp.diff(expr, x)\n",
        "d_expr_dy = sp.diff(expr, y)\n",
        "\n",
        "# Решаем для dy/dx\n",
        "dy_dx = sp.solve(d_expr_dx + d_expr_dy * sp.Derivative(y, x), sp.Derivative(y, x))[0]\n",
        "\n",
        "# Упрощаем результат\n",
        "dy_dx_simplified = sp.simplify(dy_dx)\n",
        "\n",
        "# Выводим результат в удобной форме\n",
        "print(\"Производная dy/dx:\")\n",
        "print(sp.pretty(dy_dx_simplified))"
      ],
      "metadata": {
        "colab": {
          "base_uri": "https://localhost:8080/"
        },
        "id": "SYt_1fHOQhK7",
        "outputId": "ab87a977-4c82-4d65-dd40-1e2ccbc29cb3"
      },
      "execution_count": 22,
      "outputs": [
        {
          "output_type": "stream",
          "name": "stdout",
          "text": [
            "Производная dy/dx:\n",
            " ⎛       ⎛ 2    2⎞      x⋅y⎞ \n",
            "-⎝2⋅x⋅sin⎝x  + y ⎠ + y⋅ℯ   ⎠ \n",
            "─────────────────────────────\n",
            "     x⋅y          ⎛ 2    2⎞  \n",
            "  x⋅ℯ    + 2⋅y⋅sin⎝x  + y ⎠  \n"
          ]
        }
      ]
    },
    {
      "cell_type": "markdown",
      "source": [
        "## 2) x sin y + y sin x = 0."
      ],
      "metadata": {
        "id": "Wx9jsdcVQxad"
      }
    },
    {
      "cell_type": "code",
      "source": [
        "# Определяем переменные\n",
        "x, y = sp.symbols('x y')\n",
        "\n",
        "# Определяем функцию неявно\n",
        "expr = x * sp.sin(y) + y * sp.sin(x)\n",
        "\n",
        "# Находим частные производные\n",
        "d_expr_dx = sp.diff(expr, x)\n",
        "d_expr_dy = sp.diff(expr, y)\n",
        "\n",
        "# Решаем для dy/dx\n",
        "dy_dx = sp.solve(d_expr_dx + d_expr_dy * sp.Derivative(y, x), sp.Derivative(y, x))[0]\n",
        "\n",
        "# Упрощаем результат\n",
        "dy_dx_simplified = sp.simplify(dy_dx)\n",
        "\n",
        "# Выводим результат в удобной форме\n",
        "print(\"Производная dy/dx:\")\n",
        "print(sp.pretty(dy_dx_simplified))"
      ],
      "metadata": {
        "colab": {
          "base_uri": "https://localhost:8080/"
        },
        "id": "dwUaydAOQtqk",
        "outputId": "e608c889-2185-43a5-8c36-e42f9ddf8046"
      },
      "execution_count": 24,
      "outputs": [
        {
          "output_type": "stream",
          "name": "stdout",
          "text": [
            "Производная dy/dx:\n",
            "-(y⋅cos(x) + sin(y)) \n",
            "─────────────────────\n",
            "  x⋅cos(y) + sin(x)  \n"
          ]
        }
      ]
    },
    {
      "cell_type": "markdown",
      "source": [
        "## Задание 5. Найти производную для заданных параметрически функций:\n",
        "\n",
        "## 1) x = t^3 + t, y = t^2 + t + 1;"
      ],
      "metadata": {
        "id": "g-UgXbKERIbj"
      }
    },
    {
      "cell_type": "code",
      "source": [
        "# Определяем переменную t\n",
        "t = sp.symbols('t')\n",
        "\n",
        "# Определяем параметрические функции x и y\n",
        "x = t**3 + t\n",
        "y = t**2 + t + 1\n",
        "\n",
        "# Находим производные по t\n",
        "dx_dt = sp.diff(x, t)\n",
        "dy_dt = sp.diff(y, t)\n",
        "\n",
        "# Вычисляем dy/dx\n",
        "dy_dx = dy_dt / dx_dt\n",
        "\n",
        "# Упрощаем результат\n",
        "dy_dx_simplified = sp.simplify(dy_dx)\n",
        "\n",
        "# Выводим результат\n",
        "print(\"Производная dy/dx для параметрических функций x = t^3 + t и y = t^2 + t + 1:\")\n",
        "print(sp.pretty(dy_dx_simplified))"
      ],
      "metadata": {
        "colab": {
          "base_uri": "https://localhost:8080/"
        },
        "id": "0P9MQ1GrSNq7",
        "outputId": "fc6acd31-9989-4695-f097-232ac98ad18c"
      },
      "execution_count": 29,
      "outputs": [
        {
          "output_type": "stream",
          "name": "stdout",
          "text": [
            "Производная dy/dx для параметрических функций x = t^3 + t и y = t^2 + t + 1:\n",
            "2⋅t + 1 \n",
            "────────\n",
            "   2    \n",
            "3⋅t  + 1\n"
          ]
        }
      ]
    },
    {
      "cell_type": "markdown",
      "source": [
        "## 2) x = e^(t) * sin (t), y = e^(t) * cos (t)."
      ],
      "metadata": {
        "id": "nFVC3SnaSX2s"
      }
    },
    {
      "cell_type": "code",
      "source": [
        "# Определяем параметр t\n",
        "t = sp.symbols('t')\n",
        "\n",
        "# Определяем параметрические функции x и y\n",
        "x = sp.exp(t) * sp.sin(t)\n",
        "y = sp.exp(t) * sp.cos(t)\n",
        "\n",
        "# Находим производные по t\n",
        "dx_dt = sp.diff(x, t)\n",
        "dy_dt = sp.diff(y, t)\n",
        "\n",
        "# Вычисляем dy/dx\n",
        "dy_dx = dy_dt / dx_dt\n",
        "\n",
        "# Упрощаем результат\n",
        "dy_dx_simplified = sp.simplify(dy_dx)\n",
        "\n",
        "# Выводим результат\n",
        "print(\"Производная dy/dx для параметрических функций x = e^t * sin(t) и y = e^t * cos(t):\")\n",
        "print(sp.pretty(dy_dx_simplified))"
      ],
      "metadata": {
        "colab": {
          "base_uri": "https://localhost:8080/"
        },
        "id": "oKJn1GU4S9sI",
        "outputId": "307889d4-429d-4aa1-cd11-7506097de770"
      },
      "execution_count": 31,
      "outputs": [
        {
          "output_type": "stream",
          "name": "stdout",
          "text": [
            "Производная dy/dx для параметрических функций x = e^t * sin(t) и y = e^t * cos(t):\n",
            "    1     \n",
            "──────────\n",
            "   ⎛    π⎞\n",
            "tan⎜t + ─⎟\n",
            "   ⎝    4⎠\n"
          ]
        }
      ]
    },
    {
      "cell_type": "markdown",
      "source": [
        "## Задание 6. Найти уравнения касательной и нормали к данной кривой в точке x0:\n",
        "## y = e^x , при x0 = 0."
      ],
      "metadata": {
        "id": "au9EktTTTWsL"
      }
    },
    {
      "cell_type": "code",
      "source": [
        "# Определяем переменную\n",
        "x = sp.symbols('x')\n",
        "\n",
        "# Определяем функцию\n",
        "y = sp.exp(x)\n",
        "\n",
        "# Находим производную функции\n",
        "dy_dx = sp.diff(y, x)\n",
        "\n",
        "# Точка x0\n",
        "x0 = 0\n",
        "y0 = y.subs(x, x0)\n",
        "\n",
        "# Значение производной в точке x0\n",
        "slope_tangent = dy_dx.subs(x, x0)\n",
        "\n",
        "# Уравнение касательной\n",
        "tangent_eq = sp.Eq(y, slope_tangent * (x - x0) + y0)\n",
        "\n",
        "# Угловой коэффициент нормали\n",
        "slope_normal = -1 / slope_tangent\n",
        "\n",
        "# Уравнение нормали\n",
        "normal_eq = sp.Eq(y, slope_normal * (x - x0) + y0)\n",
        "\n",
        "# Упрощаем уравнения\n",
        "tangent_eq_simplified = sp.simplify(tangent_eq)\n",
        "normal_eq_simplified = sp.simplify(normal_eq)\n",
        "\n",
        "# Выводим результаты\n",
        "print(\"Уравнение касательной:\")\n",
        "print(sp.pretty(tangent_eq_simplified))\n",
        "\n",
        "print(\"\\nУравнение нормали:\")\n",
        "print(sp.pretty(normal_eq_simplified))\n"
      ],
      "metadata": {
        "colab": {
          "base_uri": "https://localhost:8080/"
        },
        "id": "90TXJuJjT3f8",
        "outputId": "51f41ac5-7351-40bd-fd8f-b812784a8664"
      },
      "execution_count": 33,
      "outputs": [
        {
          "output_type": "stream",
          "name": "stdout",
          "text": [
            "Уравнение касательной:\n",
            " x        \n",
            "ℯ  = x + 1\n",
            "\n",
            "Уравнение нормали:\n",
            " x        \n",
            "ℯ  = 1 - x\n"
          ]
        }
      ]
    },
    {
      "cell_type": "markdown",
      "source": [
        "## Задание 7. Найти производные указанных порядков для следующих функций:\n",
        "##1) y = -x * cos (x), y'' =?;"
      ],
      "metadata": {
        "id": "3sCsV8SST-zM"
      }
    },
    {
      "cell_type": "code",
      "source": [
        "# Определяем переменную\n",
        "x = sp.symbols('x')\n",
        "\n",
        "# Определяем функцию\n",
        "y = -x * sp.cos(x)\n",
        "\n",
        "# Находим первую производную\n",
        "y_prime = sp.diff(y, x)\n",
        "\n",
        "# Находим вторую производную\n",
        "y_double_prime = sp.diff(y_prime, x)\n",
        "\n",
        "# Упрощаем результат\n",
        "y_prime_simplified = sp.simplify(y_prime)\n",
        "y_double_prime_simplified = sp.simplify(y_double_prime)\n",
        "\n",
        "# Выводим результаты\n",
        "print(\"Первая производная y':\")\n",
        "print(sp.pretty(y_prime_simplified))\n",
        "\n",
        "print(\"\\nВторая производная y'':\")\n",
        "print(sp.pretty(y_double_prime_simplified))"
      ],
      "metadata": {
        "colab": {
          "base_uri": "https://localhost:8080/"
        },
        "id": "wuPkyDCWUUtp",
        "outputId": "f5e55a97-0c7c-4351-88c1-3ee5db3a899a"
      },
      "execution_count": 34,
      "outputs": [
        {
          "output_type": "stream",
          "name": "stdout",
          "text": [
            "Первая производная y':\n",
            "x⋅sin(x) - cos(x)\n",
            "\n",
            "Вторая производная y'':\n",
            "x⋅cos(x) + 2⋅sin(x)\n"
          ]
        }
      ]
    },
    {
      "cell_type": "markdown",
      "source": [
        "## 2) y = e^(2x), y(V) =?;"
      ],
      "metadata": {
        "id": "aJ1R-CkrUuZB"
      }
    },
    {
      "cell_type": "code",
      "source": [
        "# Определяем переменную\n",
        "x = sp.symbols('x')\n",
        "\n",
        "# Определяем функцию\n",
        "y = sp.exp(2 * x)\n",
        "\n",
        "# Находим пятую производную\n",
        "y_fifth_derivative = sp.diff(y, x, 5)\n",
        "\n",
        "# Упрощаем результат\n",
        "y_fifth_derivative_simplified = sp.simplify(y_fifth_derivative)\n",
        "\n",
        "# Выводим результат\n",
        "print(\"Пятая производная y^{(5)}:\")\n",
        "print(sp.pretty(y_fifth_derivative_simplified))"
      ],
      "metadata": {
        "colab": {
          "base_uri": "https://localhost:8080/"
        },
        "id": "81M3VnBBVXwq",
        "outputId": "9d29b846-e53d-4ae4-8f38-79446b24fdd9"
      },
      "execution_count": 35,
      "outputs": [
        {
          "output_type": "stream",
          "name": "stdout",
          "text": [
            "Пятая производная y^{(5)}:\n",
            "    2⋅x\n",
            "32⋅ℯ   \n"
          ]
        }
      ]
    },
    {
      "cell_type": "markdown",
      "source": [
        "## 3) y = ln(1 + x), y(n) =?."
      ],
      "metadata": {
        "id": "Ahduq6rIVeVE"
      }
    },
    {
      "cell_type": "code",
      "source": [
        "# Определяем переменные\n",
        "x, N = sp.symbols('x N', integer=True)\n",
        "\n",
        "# Определяем функцию\n",
        "y = sp.ln(1 + x)\n",
        "\n",
        "# Находим N-ю производную\n",
        "y_N_derivative = sp.diff(y, x, N)\n",
        "\n",
        "# Упрощаем результат\n",
        "y_N_derivative_simplified = sp.simplify(y_N_derivative)\n",
        "\n",
        "# Формируем строку для вывода формулы\n",
        "formula_str = sp.pretty(y_N_derivative_simplified, use_unicode=True)\n",
        "\n",
        "# Печатаем результат\n",
        "print(f\"Формула для N-ой производной функции y = ln(1 + x):\")\n",
        "print(f\"y{N} = {formula_str}\")"
      ],
      "metadata": {
        "colab": {
          "base_uri": "https://localhost:8080/"
        },
        "id": "tmXd6dUhWxH4",
        "outputId": "829f0ed5-f346-4e75-8004-bcdba426419e"
      },
      "execution_count": 40,
      "outputs": [
        {
          "output_type": "stream",
          "name": "stdout",
          "text": [
            "Формула для N-ой производной функции y = ln(1 + x):\n",
            "yN = 0\n"
          ]
        }
      ]
    }
  ]
}